{
  "nbformat": 4,
  "nbformat_minor": 0,
  "metadata": {
    "colab": {
      "provenance": [],
      "authorship_tag": "ABX9TyPEG/4ozxjij7G9r8yO5a54",
      "include_colab_link": true
    },
    "kernelspec": {
      "name": "python3",
      "display_name": "Python 3"
    },
    "language_info": {
      "name": "python"
    }
  },
  "cells": [
    {
      "cell_type": "markdown",
      "metadata": {
        "id": "view-in-github",
        "colab_type": "text"
      },
      "source": [
        "<a href=\"https://colab.research.google.com/github/imranttsia/Deep-learning/blob/main/Fashion_MNIST_Dataset_Deep_learning.ipynb\" target=\"_parent\"><img src=\"https://colab.research.google.com/assets/colab-badge.svg\" alt=\"Open In Colab\"/></a>"
      ]
    },
    {
      "cell_type": "markdown",
      "source": [
        "Listing 2.1 Loading the MNIST dataset in Keras"
      ],
      "metadata": {
        "id": "ZsE5N8xoF_IK"
      }
    },
    {
      "cell_type": "code",
      "source": [
        "#Taking mnist dataset from tensorflow.keras\n",
        "from tensorflow.keras.datasets import fashion_mnist\n",
        "\n",
        "#loading dataset of mnist having train images with labels and testing images with labels.\n",
        "(train_images, train_labels), (test_images, test_labels) = fashion_mnist.load_data()"
      ],
      "metadata": {
        "colab": {
          "base_uri": "https://localhost:8080/"
        },
        "id": "0gjHf8qqGJCB",
        "outputId": "b6c743b7-4ebb-4a6c-9110-ca47b8a65b66"
      },
      "execution_count": 2,
      "outputs": [
        {
          "output_type": "stream",
          "name": "stdout",
          "text": [
            "Downloading data from https://storage.googleapis.com/tensorflow/tf-keras-datasets/train-labels-idx1-ubyte.gz\n",
            "29515/29515 [==============================] - 0s 0us/step\n",
            "Downloading data from https://storage.googleapis.com/tensorflow/tf-keras-datasets/train-images-idx3-ubyte.gz\n",
            "26421880/26421880 [==============================] - 0s 0us/step\n",
            "Downloading data from https://storage.googleapis.com/tensorflow/tf-keras-datasets/t10k-labels-idx1-ubyte.gz\n",
            "5148/5148 [==============================] - 0s 0us/step\n",
            "Downloading data from https://storage.googleapis.com/tensorflow/tf-keras-datasets/t10k-images-idx3-ubyte.gz\n",
            "4422102/4422102 [==============================] - 0s 0us/step\n"
          ]
        }
      ]
    },
    {
      "cell_type": "code",
      "source": [
        "#print number number of images and labels available in training dataset\n",
        "print(len(train_images))\n",
        "print(len(train_labels))\n"
      ],
      "metadata": {
        "colab": {
          "base_uri": "https://localhost:8080/"
        },
        "id": "kYnaOlW7GJNa",
        "outputId": "c8fdc322-3d2a-4c19-b981-916acc99d0da"
      },
      "execution_count": 3,
      "outputs": [
        {
          "output_type": "stream",
          "name": "stdout",
          "text": [
            "60000\n",
            "60000\n"
          ]
        }
      ]
    },
    {
      "cell_type": "code",
      "source": [
        "#print number number of images and labels available in testing dataset\n",
        "print(len(test_images))\n",
        "print(len(test_labels))"
      ],
      "metadata": {
        "colab": {
          "base_uri": "https://localhost:8080/"
        },
        "id": "6YvIB6jUGJPx",
        "outputId": "5d9822eb-8cf2-470a-b317-542b418955d7"
      },
      "execution_count": 4,
      "outputs": [
        {
          "output_type": "stream",
          "name": "stdout",
          "text": [
            "10000\n",
            "10000\n"
          ]
        }
      ]
    },
    {
      "cell_type": "code",
      "source": [
        "#presenting test and train dataset shape.\n",
        "print(test_images.shape)\n",
        "train_images.shape"
      ],
      "metadata": {
        "colab": {
          "base_uri": "https://localhost:8080/"
        },
        "id": "Sx6vFwgiGJSV",
        "outputId": "5f11fd7b-aebe-4b52-b834-b30b6032ff22"
      },
      "execution_count": 5,
      "outputs": [
        {
          "output_type": "stream",
          "name": "stdout",
          "text": [
            "(10000, 28, 28)\n"
          ]
        },
        {
          "output_type": "execute_result",
          "data": {
            "text/plain": [
              "(60000, 28, 28)"
            ]
          },
          "metadata": {},
          "execution_count": 5
        }
      ]
    },
    {
      "cell_type": "code",
      "source": [
        "#presenting image and its label of training dataset at index 0 i.e. first image of training dataset\n",
        "import matplotlib.pyplot as plt\n",
        "\n",
        "digit = train_images[0]\n",
        "print(\"Class Label:\",train_labels[0])\n",
        "#digit.shape\n",
        "\n",
        "plt.imshow(digit, cmap=plt.cm.binary)\n",
        "plt.show()"
      ],
      "metadata": {
        "colab": {
          "base_uri": "https://localhost:8080/",
          "height": 282
        },
        "id": "UmqzEjnkGJV2",
        "outputId": "371029a5-54e0-494c-882e-198a753ff1b7"
      },
      "execution_count": 6,
      "outputs": [
        {
          "output_type": "stream",
          "name": "stdout",
          "text": [
            "Class Label: 9\n"
          ]
        },
        {
          "output_type": "display_data",
          "data": {
            "text/plain": [
              "<Figure size 432x288 with 1 Axes>"
            ],
            "image/png": "[encoded data removed]"
          },
          "metadata": {
            "needs_background": "light"
          }
        }
      ]
    },
    {
      "cell_type": "code",
      "source": [
        "#presenting image and its label of testing dataset at index 0 i.e. first image of testing dataset\n",
        "digit = test_images[0]\n",
        "print(\"Class Label:\",test_labels[0])\n",
        "#digit.shape\n",
        "\n",
        "plt.imshow(digit, cmap=plt.cm.binary)\n",
        "plt.show()"
      ],
      "metadata": {
        "colab": {
          "base_uri": "https://localhost:8080/",
          "height": 282
        },
        "id": "vJm6NLqEJ4Dx",
        "outputId": "e5a00479-9847-4257-8e08-869c7ff3bb25"
      },
      "execution_count": 7,
      "outputs": [
        {
          "output_type": "stream",
          "name": "stdout",
          "text": [
            "Class Label: 9\n"
          ]
        },
        {
          "output_type": "display_data",
          "data": {
            "text/plain": [
              "<Figure size 432x288 with 1 Axes>"
            ],
            "image/png": "[encoded data removed]"
          },
          "metadata": {
            "needs_background": "light"
          }
        }
      ]
    },
    {
      "cell_type": "code",
      "source": [
        "#Printing all the training labels, number of labels and their unique values present in training dataset\n",
        "import numpy as np\n",
        "print(train_labels)\n",
        "print(len(train_labels))\n",
        "print(np.unique(train_labels))"
      ],
      "metadata": {
        "colab": {
          "base_uri": "https://localhost:8080/"
        },
        "id": "HMd6gUQBJ4GT",
        "outputId": "f0ff0652-532f-4cd6-e36b-3c0356c03b0c"
      },
      "execution_count": 8,
      "outputs": [
        {
          "output_type": "stream",
          "name": "stdout",
          "text": [
            "[9 0 0 ... 3 0 5]\n",
            "60000\n",
            "[0 1 2 3 4 5 6 7 8 9]\n"
          ]
        }
      ]
    },
    {
      "cell_type": "code",
      "source": [
        "#Printing all the testing labels, number of labels and their unique values present in testing dataset\n",
        "import numpy as np\n",
        "print(test_labels)\n",
        "print(len(test_labels))\n",
        "print(np.unique(test_labels))"
      ],
      "metadata": {
        "colab": {
          "base_uri": "https://localhost:8080/"
        },
        "id": "6uveE-BgJ4I2",
        "outputId": "80a608f2-c7d6-483d-a4ce-7223ecb7f5c5"
      },
      "execution_count": 9,
      "outputs": [
        {
          "output_type": "stream",
          "name": "stdout",
          "text": [
            "[9 2 1 ... 8 1 5]\n",
            "10000\n",
            "[0 1 2 3 4 5 6 7 8 9]\n"
          ]
        }
      ]
    },
    {
      "cell_type": "code",
      "source": [
        "import numpy as np\n",
        "#The randint() method returns an integer number selected element from the specified range.\n",
        "b=np.random.randint(0,255,size=(28,28))\n",
        "print(b.shape)\n",
        "#The ravel() function is used to create a contiguous flattened array. A 1-D array, containing the elements of the input, is returned. \n",
        "b1=b.ravel()\n",
        "print(b1.shape)"
      ],
      "metadata": {
        "colab": {
          "base_uri": "https://localhost:8080/"
        },
        "id": "6Zfy5NABzbga",
        "outputId": "b2cbd8f6-3f1c-4c75-d03a-b76446e65191"
      },
      "execution_count": 10,
      "outputs": [
        {
          "output_type": "stream",
          "name": "stdout",
          "text": [
            "(28, 28)\n",
            "(784,)\n"
          ]
        }
      ]
    },
    {
      "cell_type": "markdown",
      "source": [
        "Listing 2.2 The network architecture"
      ],
      "metadata": {
        "id": "RlObLfJGL4ku"
      }
    },
    {
      "cell_type": "code",
      "source": [
        "from tensorflow.keras import models\n",
        "from tensorflow.keras import layers\n",
        "\n",
        "network = models.Sequential()\n",
        "#network=model.add(layers.Dense(output,activation_function ,input_shape))\n",
        "#network=model.add(layers.Dense(512,activation='relu' ,input_shape=(784)))\n",
        "#just set your last layer activation function with page 114 of Deep learning with python\n",
        "#This problem is related to Multiclass, sigle label classification(Softmax, categorical_crossentropy)\n",
        "#Output shound be set with the power of 2\n",
        "\n",
        "network.add(layers.Dense(512, activation='relu', input_shape=(28*28, )))\n",
        "network.add(layers.Dense(10, activation='softmax'))"
      ],
      "metadata": {
        "id": "wJrP1TiLJ4MQ"
      },
      "execution_count": 11,
      "outputs": []
    },
    {
      "cell_type": "markdown",
      "source": [
        "Listing 2.3 The compilation step"
      ],
      "metadata": {
        "id": "1n1XoOFpD1v_"
      }
    },
    {
      "cell_type": "code",
      "source": [
        "network.compile(optimizer='rmsprop',\n",
        "                loss='categorical_crossentropy',\n",
        "                metrics=['accuracy'])\n",
        "#optimizer=rmsprop\n",
        "#metrics=['f1','precision','accuracy']\n",
        "#los function=see page 114 of Deep learning with python"
      ],
      "metadata": {
        "id": "ApNiI4DDJ4Rr"
      },
      "execution_count": 12,
      "outputs": []
    },
    {
      "cell_type": "code",
      "source": [
        "# 3 dimensional image image samples,width, heigth\n",
        "train_images.shape"
      ],
      "metadata": {
        "id": "oPDI9cAEJ4VC",
        "colab": {
          "base_uri": "https://localhost:8080/"
        },
        "outputId": "dfb78fe6-95c2-4b56-ae85-2194440d1549"
      },
      "execution_count": 13,
      "outputs": [
        {
          "output_type": "execute_result",
          "data": {
            "text/plain": [
              "(60000, 28, 28)"
            ]
          },
          "metadata": {},
          "execution_count": 13
        }
      ]
    },
    {
      "cell_type": "code",
      "source": [
        "#The ndim is an attribute in the pandas DataFrame which is used to get the integer/number representation of dimensions of the given DataFrame object. \n",
        "train_images.ndim\n"
      ],
      "metadata": {
        "colab": {
          "base_uri": "https://localhost:8080/"
        },
        "id": "WnDvq9XlEeHZ",
        "outputId": "970df26b-4d8f-4946-f0e7-f88bb0d1109d"
      },
      "execution_count": 14,
      "outputs": [
        {
          "output_type": "execute_result",
          "data": {
            "text/plain": [
              "3"
            ]
          },
          "metadata": {},
          "execution_count": 14
        }
      ]
    },
    {
      "cell_type": "code",
      "source": [
        "#normilization since maximum intensity in gray scale is 255\n",
        "50/255\n"
      ],
      "metadata": {
        "colab": {
          "base_uri": "https://localhost:8080/"
        },
        "id": "Q3YQBDr1EePi",
        "outputId": "c4113c64-b0df-4b81-ae62-f306f562d973"
      },
      "execution_count": 15,
      "outputs": [
        {
          "output_type": "execute_result",
          "data": {
            "text/plain": [
              "0.19607843137254902"
            ]
          },
          "metadata": {},
          "execution_count": 15
        }
      ]
    },
    {
      "cell_type": "markdown",
      "source": [
        "Listing 2.4 Preparing the image data"
      ],
      "metadata": {
        "id": "ZWZ9tEVGFFuS"
      }
    },
    {
      "cell_type": "code",
      "source": [
        "train_images = train_images.reshape((60000, 28 * 28)) #changing into 1D by 28*28 \n",
        "train_images = train_images.astype('float32') / 255 #Normalization\n",
        "\n",
        "\n",
        "test_images = test_images.reshape((10000, 28 * 28))\n",
        "test_images = test_images.astype('float32') / 255 #Normalization"
      ],
      "metadata": {
        "id": "dMqi9gAFFG86"
      },
      "execution_count": 16,
      "outputs": []
    },
    {
      "cell_type": "code",
      "source": [],
      "metadata": {
        "id": "F9nE9DjWLYHH"
      },
      "execution_count": 16,
      "outputs": []
    },
    {
      "cell_type": "markdown",
      "source": [
        "Listing 2.5 Preparing the labels"
      ],
      "metadata": {
        "id": "6_8f6luwF66n"
      }
    },
    {
      "cell_type": "code",
      "source": [
        "train_labels[0]"
      ],
      "metadata": {
        "colab": {
          "base_uri": "https://localhost:8080/"
        },
        "id": "ORdiByEEFHCN",
        "outputId": "3e93402a-604a-4f18-d57d-e508a6302936"
      },
      "execution_count": 17,
      "outputs": [
        {
          "output_type": "execute_result",
          "data": {
            "text/plain": [
              "9"
            ]
          },
          "metadata": {},
          "execution_count": 17
        }
      ]
    },
    {
      "cell_type": "code",
      "source": [
        "#Coverting 2D(28,28) into 1D(784) and presenting image and its label of testing dataset at index 0 i.e. first image of testing dataset\n",
        "digit = test_images[0]\n",
        "print(\"Class Label:\",test_labels[0])\n",
        "#digit.shape\n",
        "\n",
        "plt.imshow([digit])\n",
        "plt.show()"
      ],
      "metadata": {
        "colab": {
          "base_uri": "https://localhost:8080/",
          "height": 69
        },
        "id": "LbuG3BwcFHWR",
        "outputId": "28cf96db-8767-41ad-e56a-4e9a3cf74919"
      },
      "execution_count": 18,
      "outputs": [
        {
          "output_type": "stream",
          "name": "stdout",
          "text": [
            "Class Label: 9\n"
          ]
        },
        {
          "output_type": "display_data",
          "data": {
            "text/plain": [
              "<Figure size 432x288 with 1 Axes>"
            ],
            "image/png": "[encoded data removed]"
          },
          "metadata": {
            "needs_background": "light"
          }
        }
      ]
    },
    {
      "cell_type": "code",
      "source": [
        "#Coverting 2D(28,28) into 1D(784) and presenting image and its label of training dataset at index 0 i.e. first image of training dataset\n",
        "digit = train_images[0]\n",
        "print(\"Class Label:\",train_labels[0])\n",
        "#digit.shape\n",
        "\n",
        "plt.imshow([digit])\n",
        "plt.show()"
      ],
      "metadata": {
        "colab": {
          "base_uri": "https://localhost:8080/",
          "height": 69
        },
        "id": "c8Bnv9U7MeSp",
        "outputId": "97070f79-9c31-4b59-d803-37f9ade393d2"
      },
      "execution_count": 19,
      "outputs": [
        {
          "output_type": "stream",
          "name": "stdout",
          "text": [
            "Class Label: 9\n"
          ]
        },
        {
          "output_type": "display_data",
          "data": {
            "text/plain": [
              "<Figure size 432x288 with 1 Axes>"
            ],
            "image/png": "[encoded data removed]"
          },
          "metadata": {
            "needs_background": "light"
          }
        }
      ]
    },
    {
      "cell_type": "code",
      "source": [
        "print(train_images.shape)\n",
        "print(test_images.shape)\n"
      ],
      "metadata": {
        "colab": {
          "base_uri": "https://localhost:8080/"
        },
        "id": "a0n9pCsgMHIu",
        "outputId": "22b74aba-2842-4ce4-eef7-7fd3fd901f62"
      },
      "execution_count": 20,
      "outputs": [
        {
          "output_type": "stream",
          "name": "stdout",
          "text": [
            "(60000, 784)\n",
            "(10000, 784)\n"
          ]
        }
      ]
    },
    {
      "cell_type": "markdown",
      "source": [
        "One-Hot-Encoding"
      ],
      "metadata": {
        "id": "4qt9AhXWUqOg"
      }
    },
    {
      "cell_type": "code",
      "source": [
        "from tensorflow.keras.utils import to_categorical\n",
        "\n",
        "train_labels = to_categorical(train_labels)\n",
        "test_labels = to_categorical(test_labels)"
      ],
      "metadata": {
        "id": "VfmT2i5aUqkS"
      },
      "execution_count": 21,
      "outputs": []
    },
    {
      "cell_type": "code",
      "source": [
        "train_labels[0]\n"
      ],
      "metadata": {
        "colab": {
          "base_uri": "https://localhost:8080/"
        },
        "id": "F7FpiFYBU8YE",
        "outputId": "a4cc9373-91c0-462d-a57f-5028f47c3a7b"
      },
      "execution_count": 22,
      "outputs": [
        {
          "output_type": "execute_result",
          "data": {
            "text/plain": [
              "array([0., 0., 0., 0., 0., 0., 0., 0., 0., 1.], dtype=float32)"
            ]
          },
          "metadata": {},
          "execution_count": 22
        }
      ]
    },
    {
      "cell_type": "markdown",
      "source": [
        "Now Train your Model"
      ],
      "metadata": {
        "id": "9fXFpPnUVJGK"
      }
    },
    {
      "cell_type": "code",
      "source": [
        "network.fit(train_images, train_labels, epochs=5, batch_size=128)"
      ],
      "metadata": {
        "colab": {
          "base_uri": "https://localhost:8080/"
        },
        "id": "AhF8VlFnVKZy",
        "outputId": "4566b330-4faf-4fce-d120-5d3f21b069c2"
      },
      "execution_count": 23,
      "outputs": [
        {
          "output_type": "stream",
          "name": "stdout",
          "text": [
            "Epoch 1/5\n",
            "469/469 [==============================] - 3s 6ms/step - loss: 0.5602 - accuracy: 0.8026\n",
            "Epoch 2/5\n",
            "469/469 [==============================] - 3s 6ms/step - loss: 0.3813 - accuracy: 0.8602\n",
            "Epoch 3/5\n",
            "469/469 [==============================] - 3s 6ms/step - loss: 0.3380 - accuracy: 0.8752\n",
            "Epoch 4/5\n",
            "469/469 [==============================] - 3s 6ms/step - loss: 0.3113 - accuracy: 0.8865\n",
            "Epoch 5/5\n",
            "469/469 [==============================] - 3s 6ms/step - loss: 0.2923 - accuracy: 0.8919\n"
          ]
        },
        {
          "output_type": "execute_result",
          "data": {
            "text/plain": [
              "<keras.callbacks.History at 0x7f08bd295b50>"
            ]
          },
          "metadata": {},
          "execution_count": 23
        }
      ]
    },
    {
      "cell_type": "markdown",
      "source": [
        "Now check accuracy of Testing dataset"
      ],
      "metadata": {
        "id": "6zXQlMtBVxka"
      }
    },
    {
      "cell_type": "code",
      "source": [
        "test_loss, test_acc = network.evaluate(test_images, test_labels)\n",
        "print('test_acc:', test_acc)"
      ],
      "metadata": {
        "colab": {
          "base_uri": "https://localhost:8080/"
        },
        "id": "BfldmWKoVVO9",
        "outputId": "78774eb5-8e12-4781-de7f-f03aaa098fbe"
      },
      "execution_count": 24,
      "outputs": [
        {
          "output_type": "stream",
          "name": "stdout",
          "text": [
            "313/313 [==============================] - 1s 1ms/step - loss: 0.4089 - accuracy: 0.8514\n",
            "test_acc: 0.8514000177383423\n"
          ]
        }
      ]
    }
  ]
}